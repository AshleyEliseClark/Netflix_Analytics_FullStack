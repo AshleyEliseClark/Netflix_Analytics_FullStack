{
 "cells": [
  {
   "cell_type": "code",
   "execution_count": 11,
   "id": "5255dbe6-939d-4f31-8536-aaea0273a9fa",
   "metadata": {},
   "outputs": [
    {
     "name": "stdout",
     "output_type": "stream",
     "text": [
      "📄 Content Dataset:\n",
      "   content_id   title     genre  release_year  duration_min\n",
      "0           1  Show_1   Romance          2019            87\n",
      "1           2  Show_2   Romance          2012            92\n",
      "2           3  Show_3   Romance          2017            91\n",
      "3           4  Show_4   Romance          2023            51\n",
      "4           5  Show_5  Thriller          2017            87\n",
      "📊 Ratings Dataset:\n",
      "   rating_id  user_id  content_id  rating rating_date\n",
      "0          1       22          39       5  2024-04-13\n",
      "1          2       74           9       1  2024-03-11\n",
      "2          3       14           8       1  2024-04-05\n",
      "3          4        2          44       5  2024-04-03\n",
      "4          5       71          12       3  2024-02-25\n",
      "👤 Users Dataset:\n",
      "   user_id region signup_date subscription_type\n",
      "0        1     IN  2023-01-28          Standard\n",
      "1        2     BR  2023-05-15           Premium\n",
      "2        3     CA  2023-07-20             Basic\n",
      "3        4     BR  2023-11-24             Basic\n",
      "4        5     BR  2023-09-25             Basic\n",
      "🎬 View History Dataset:\n",
      "   log_id  user_id  content_id  watch_date  watch_duration_min\n",
      "0       1        9          20  2024-01-22                  73\n",
      "1       2       72          28  2024-04-28                  97\n",
      "2       3       19          38  2024-03-16                  71\n",
      "3       4       19           5  2024-01-16                  30\n",
      "4       5       73          20  2024-04-10                  55\n"
     ]
    }
   ],
   "source": [
    "import pandas as pd\n",
    "import numpy as np\n",
    "import os\n",
    "\n",
    "data_path = r\"C:\\Users\\AshleyPC\\Netflix_Analytics_Project\\1. data\\raw\"\n",
    "\n",
    "content_df = pd.read_csv(os.path.join(data_path, 'content.csv'))\n",
    "ratings_df = pd.read_csv(os.path.join(data_path, 'ratings.csv'))\n",
    "users_df = pd.read_csv(os.path.join(data_path, 'users.csv'))\n",
    "view_df = pd.read_csv(os.path.join(data_path, 'view_history.csv'))\n",
    "\n",
    "print(\"📄 Content Dataset:\")\n",
    "print(content_df.head())\n",
    "\n",
    "print(\"📊 Ratings Dataset:\")\n",
    "print(ratings_df.head())\n",
    "\n",
    "print(\"👤 Users Dataset:\")\n",
    "print(users_df.head())\n",
    "\n",
    "print(\"🎬 View History Dataset:\")\n",
    "print(view_df.head())\n"
   ]
  },
  {
   "cell_type": "code",
   "execution_count": null,
   "id": "5d420226",
   "metadata": {},
   "outputs": [],
   "source": [
    "git add -A\n",
    "git commit -m \"📊 Initial data exploration notebook added\"\n",
    "git push\n"
   ]
  },
  {
   "cell_type": "code",
   "execution_count": null,
   "id": "0c491830-04a7-4a6f-a000-5e9a407df52a",
   "metadata": {},
   "outputs": [],
   "source": []
  }
 ],
 "metadata": {
  "kernelspec": {
   "display_name": "Python 3 (ipykernel)",
   "language": "python",
   "name": "python3"
  },
  "language_info": {
   "codemirror_mode": {
    "name": "ipython",
    "version": 3
   },
   "file_extension": ".py",
   "mimetype": "text/x-python",
   "name": "python",
   "nbconvert_exporter": "python",
   "pygments_lexer": "ipython3",
   "version": "3.12.7"
  }
 },
 "nbformat": 4,
 "nbformat_minor": 5
}
